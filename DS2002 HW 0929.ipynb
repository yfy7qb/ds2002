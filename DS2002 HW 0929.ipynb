{
 "cells": [
  {
   "cell_type": "markdown",
   "metadata": {},
   "source": [
    "You have seen some examples of how to interact with JSON, CSV and make API Calls. Take some time to explore the YAHOO Finance Guide at https://financeapi.net/ which shows you endpoints for calling information. Your job is to code a Python Program that does the following things:\n",
    "\n",
    "1. Takes user input for a stock (using the Ticker Symbol): IE with the input() command\n",
    "2. You will display back the user: Ticker Name, Full Name of the Stock, Current Market Price, Target Mean Price, 52 week high and 52 week low. Also, output 5 of the current trending stock. \n",
    "3. Put that data in a DataFrame and then store that to a CSV file\n",
    "4. Handle Errors (IE, the stock doesn't exist and/or the API is not returning information)\n",
    "\n",
    "You will then have to read the documentation and figure out which modules to call to get the data that you need. You will need to make more than one call to this API. Use the examples in our Zoom Session to guide you, but the documentation will be enough. Post your code to GitHub."
   ]
  },
  {
   "cell_type": "code",
   "execution_count": 1,
   "metadata": {},
   "outputs": [],
   "source": [
    "# Import packages\n",
    "import json\n",
    "import pandas as pd\n",
    "import requests"
   ]
  },
  {
   "cell_type": "code",
   "execution_count": 2,
   "metadata": {},
   "outputs": [],
   "source": [
    "# Info for API\n",
    "apikey=\"9GiqEC7EiZaMVBnqdu02Iaarm15T3u638OXLAbvq\"\n",
    "\n",
    "url = \"https://yfapi.net/v6/finance/quote\"\n",
    "\n",
    "# Ask for input\n",
    "stock = input()\n",
    "\n",
    "# Info we want (translated into language from API)\n",
    "wanted_info = [\n",
    "    'symbol',\n",
    "    'longName',\n",
    "    'regularMarketPrice',\n",
    "    'fiftyTwoWeekHigh',\n",
    "    'fiftyTwoWeekLow'\n",
    "]"
   ]
  },
  {
   "cell_type": "code",
   "execution_count": 14,
   "metadata": {},
   "outputs": [
    {
     "data": {
      "text/html": [
       "<div>\n",
       "<style scoped>\n",
       "    .dataframe tbody tr th:only-of-type {\n",
       "        vertical-align: middle;\n",
       "    }\n",
       "\n",
       "    .dataframe tbody tr th {\n",
       "        vertical-align: top;\n",
       "    }\n",
       "\n",
       "    .dataframe thead th {\n",
       "        text-align: right;\n",
       "    }\n",
       "</style>\n",
       "<table border=\"1\" class=\"dataframe\">\n",
       "  <thead>\n",
       "    <tr style=\"text-align: right;\">\n",
       "      <th></th>\n",
       "      <th>symbol</th>\n",
       "      <th>longName</th>\n",
       "      <th>regularMarketPrice</th>\n",
       "      <th>fiftyTwoWeekHigh</th>\n",
       "      <th>fiftyTwoWeekLow</th>\n",
       "    </tr>\n",
       "  </thead>\n",
       "  <tbody>\n",
       "    <tr>\n",
       "      <th>0</th>\n",
       "      <td>AAPL</td>\n",
       "      <td>Apple Inc.</td>\n",
       "      <td>227.725</td>\n",
       "      <td>237.23</td>\n",
       "      <td>164.08</td>\n",
       "    </tr>\n",
       "  </tbody>\n",
       "</table>\n",
       "</div>"
      ],
      "text/plain": [
       "  symbol    longName  regularMarketPrice  fiftyTwoWeekHigh  fiftyTwoWeekLow\n",
       "0   AAPL  Apple Inc.             227.725            237.23           164.08"
      ]
     },
     "execution_count": 14,
     "metadata": {},
     "output_type": "execute_result"
    }
   ],
   "source": [
    "# Grab everything except target mean price and trending stocks\n",
    "\n",
    "headers = {\n",
    "'x-api-key': apikey\n",
    "}\n",
    "\n",
    "response = requests.request(\"GET\", url, headers=headers, params={\"symbols\":stock})\n",
    "stock_json_pt1 = response.json()\n",
    "\n",
    "df1 = pd.DataFrame(stock_json_pt1['quoteResponse']['result'])\n",
    "df1 = df1[wanted_info]\n",
    "df1"
   ]
  },
  {
   "cell_type": "code",
   "execution_count": 43,
   "metadata": {},
   "outputs": [
    {
     "data": {
      "text/html": [
       "<div>\n",
       "<style scoped>\n",
       "    .dataframe tbody tr th:only-of-type {\n",
       "        vertical-align: middle;\n",
       "    }\n",
       "\n",
       "    .dataframe tbody tr th {\n",
       "        vertical-align: top;\n",
       "    }\n",
       "\n",
       "    .dataframe thead th {\n",
       "        text-align: right;\n",
       "    }\n",
       "</style>\n",
       "<table border=\"1\" class=\"dataframe\">\n",
       "  <thead>\n",
       "    <tr style=\"text-align: right;\">\n",
       "      <th></th>\n",
       "      <th>targetMeanPrice</th>\n",
       "    </tr>\n",
       "  </thead>\n",
       "  <tbody>\n",
       "    <tr>\n",
       "      <th>0</th>\n",
       "      <td>240.58</td>\n",
       "    </tr>\n",
       "  </tbody>\n",
       "</table>\n",
       "</div>"
      ],
      "text/plain": [
       "   targetMeanPrice\n",
       "0           240.58"
      ]
     },
     "execution_count": 43,
     "metadata": {},
     "output_type": "execute_result"
    }
   ],
   "source": [
    "# Grab target mean price\n",
    "\n",
    "url = \"https://yfapi.net/v11/finance/quoteSummary/\" + stock\n",
    "\n",
    "response = requests.request(\"GET\", url, headers=headers, params={\"symbol\":stock, 'modules':'financialData'})\n",
    "stock_json_pt2 = response.json()\n",
    "\n",
    "df2 = stock_json_pt2['quoteSummary']['result'][0]['financialData']\n",
    "df2 = {'targetMeanPrice': df2['targetMeanPrice']['raw']}\n",
    "df2 = pd.DataFrame(df2, index = [0])\n",
    "df2"
   ]
  },
  {
   "cell_type": "code",
   "execution_count": 56,
   "metadata": {},
   "outputs": [],
   "source": [
    "# Grab trending stocks\n",
    "\n",
    "url = 'https://yfapi.net/v1/finance/trending/US'\n",
    "\n",
    "response = requests.request(\"GET\", url, headers=headers, params={\"symbol\":stock, 'modules':'financialData'})\n",
    "stock_json_pt3 = response.json()"
   ]
  },
  {
   "cell_type": "code",
   "execution_count": 61,
   "metadata": {},
   "outputs": [
    {
     "data": {
      "text/html": [
       "<div>\n",
       "<style scoped>\n",
       "    .dataframe tbody tr th:only-of-type {\n",
       "        vertical-align: middle;\n",
       "    }\n",
       "\n",
       "    .dataframe tbody tr th {\n",
       "        vertical-align: top;\n",
       "    }\n",
       "\n",
       "    .dataframe thead th {\n",
       "        text-align: right;\n",
       "    }\n",
       "</style>\n",
       "<table border=\"1\" class=\"dataframe\">\n",
       "  <thead>\n",
       "    <tr style=\"text-align: right;\">\n",
       "      <th></th>\n",
       "      <th>trendingStocks</th>\n",
       "    </tr>\n",
       "  </thead>\n",
       "  <tbody>\n",
       "    <tr>\n",
       "      <th>0</th>\n",
       "      <td>^N225, NQ=F, 9866.HK, 9988.HK, ^HSI</td>\n",
       "    </tr>\n",
       "  </tbody>\n",
       "</table>\n",
       "</div>"
      ],
      "text/plain": [
       "                        trendingStocks\n",
       "0  ^N225, NQ=F, 9866.HK, 9988.HK, ^HSI"
      ]
     },
     "execution_count": 61,
     "metadata": {},
     "output_type": "execute_result"
    }
   ],
   "source": [
    "df3 = pd.DataFrame(stock_json_pt3['finance']['result'][0]['quotes'])\n",
    "df3 = df3.head(5)\n",
    "df3 = df3['symbol'].tolist()\n",
    "df3 = \", \".join(df3)\n",
    "df3 = pd.DataFrame({'trendingStocks': df3}, index = [0])\n",
    "df3"
   ]
  },
  {
   "cell_type": "code",
   "execution_count": 62,
   "metadata": {},
   "outputs": [
    {
     "data": {
      "text/html": [
       "<div>\n",
       "<style scoped>\n",
       "    .dataframe tbody tr th:only-of-type {\n",
       "        vertical-align: middle;\n",
       "    }\n",
       "\n",
       "    .dataframe tbody tr th {\n",
       "        vertical-align: top;\n",
       "    }\n",
       "\n",
       "    .dataframe thead th {\n",
       "        text-align: right;\n",
       "    }\n",
       "</style>\n",
       "<table border=\"1\" class=\"dataframe\">\n",
       "  <thead>\n",
       "    <tr style=\"text-align: right;\">\n",
       "      <th></th>\n",
       "      <th>symbol</th>\n",
       "      <th>longName</th>\n",
       "      <th>regularMarketPrice</th>\n",
       "      <th>fiftyTwoWeekHigh</th>\n",
       "      <th>fiftyTwoWeekLow</th>\n",
       "      <th>targetMeanPrice</th>\n",
       "      <th>trendingStocks</th>\n",
       "    </tr>\n",
       "  </thead>\n",
       "  <tbody>\n",
       "    <tr>\n",
       "      <th>0</th>\n",
       "      <td>AAPL</td>\n",
       "      <td>Apple Inc.</td>\n",
       "      <td>227.725</td>\n",
       "      <td>237.23</td>\n",
       "      <td>164.08</td>\n",
       "      <td>240.58</td>\n",
       "      <td>^N225, NQ=F, 9866.HK, 9988.HK, ^HSI</td>\n",
       "    </tr>\n",
       "  </tbody>\n",
       "</table>\n",
       "</div>"
      ],
      "text/plain": [
       "  symbol    longName  regularMarketPrice  fiftyTwoWeekHigh  fiftyTwoWeekLow  \\\n",
       "0   AAPL  Apple Inc.             227.725            237.23           164.08   \n",
       "\n",
       "   targetMeanPrice                       trendingStocks  \n",
       "0           240.58  ^N225, NQ=F, 9866.HK, 9988.HK, ^HSI  "
      ]
     },
     "execution_count": 62,
     "metadata": {},
     "output_type": "execute_result"
    }
   ],
   "source": [
    "# Combine dataframes\n",
    "df = pd.concat([df1, df2, df3], axis = 1)\n",
    "df"
   ]
  },
  {
   "cell_type": "code",
   "execution_count": 63,
   "metadata": {},
   "outputs": [],
   "source": [
    "# Export to CSV\n",
    "df.to_csv(stock + '_data.csv')"
   ]
  }
 ],
 "metadata": {
  "kernelspec": {
   "display_name": "ds4003",
   "language": "python",
   "name": "python3"
  },
  "language_info": {
   "codemirror_mode": {
    "name": "ipython",
    "version": 3
   },
   "file_extension": ".py",
   "mimetype": "text/x-python",
   "name": "python",
   "nbconvert_exporter": "python",
   "pygments_lexer": "ipython3",
   "version": "3.8.18"
  }
 },
 "nbformat": 4,
 "nbformat_minor": 2
}
