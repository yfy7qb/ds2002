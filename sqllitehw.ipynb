{
 "cells": [
  {
   "cell_type": "markdown",
   "metadata": {},
   "source": [
    "## 1. Set Up the Database\n",
    "    1. Create a connection to an SQLite database file named student_grades.db. If the database file does not exist, SQLite will automatically create it.\n",
    "    2. Create a cursor object to interact with the database."
   ]
  },
  {
   "cell_type": "code",
   "execution_count": 1,
   "metadata": {},
   "outputs": [],
   "source": [
    "# Import package\n",
    "import sqlite3\n",
    "\n",
    "# Create or connect to an SQLite database\n",
    "connection = sqlite3.connect('student_grades.db')\n",
    "\n",
    "# Create a cursor object\n",
    "cursor = connection.cursor()"
   ]
  },
  {
   "cell_type": "markdown",
   "metadata": {},
   "source": [
    "## 2. Create the Necessary Tables\n",
    "You will need two tables for this assignment:\n",
    "    • students: A table to store student information.\n",
    "    • grades: A table to store student grades for different subjects.\n",
    "\n",
    "The structure of the tables should be as follows:\n",
    "\n",
    "students table:\n",
    "    \n",
    "    • student_id (INTEGER, Primary Key, Auto-increment)\n",
    "    \n",
    "    • first_name (TEXT)\n",
    "    \n",
    "    • last_name (TEXT)\n",
    "\n",
    "grades table:\n",
    "    \n",
    "    • grade_id (INTEGER, Primary Key, Auto-increment)\n",
    "    \n",
    "    • student_id (INTEGER, Foreign Key linked to students table)\n",
    "    \n",
    "    • subject (TEXT)\n",
    "    \n",
    "    • grade (INTEGER)"
   ]
  },
  {
   "cell_type": "code",
   "execution_count": 2,
   "metadata": {},
   "outputs": [
    {
     "data": {
      "text/plain": [
       "<sqlite3.Cursor at 0x2358a2825e0>"
      ]
     },
     "execution_count": 2,
     "metadata": {},
     "output_type": "execute_result"
    }
   ],
   "source": [
    "# Create students table\n",
    "cursor.execute('''\n",
    "CREATE TABLE IF NOT EXISTS students (\n",
    "    student_id INTEGER PRIMARY KEY AUTOINCREMENT,\n",
    "    first_name TEXT,\n",
    "    last_name TEXT\n",
    ")           \n",
    "''')\n",
    "\n",
    "# Create grades table\n",
    "cursor.execute('''\n",
    "CREATE TABLE IF NOT EXISTS grades (\n",
    "    grade_id INTEGER PRIMARY KEY AUTOINCREMENT,\n",
    "    student_id INTEGER,\n",
    "    subject TEXT,\n",
    "    grade INTEGER\n",
    ")           \n",
    "''')"
   ]
  },
  {
   "cell_type": "markdown",
   "metadata": {},
   "source": [
    "## 3. Insert Data into the Tables\n",
    "Insert at least 5 students into the students table and at least 3 grades for each student into the grades table."
   ]
  },
  {
   "cell_type": "code",
   "execution_count": 3,
   "metadata": {},
   "outputs": [
    {
     "data": {
      "text/plain": [
       "<sqlite3.Cursor at 0x2358a2825e0>"
      ]
     },
     "execution_count": 3,
     "metadata": {},
     "output_type": "execute_result"
    }
   ],
   "source": [
    "# Create data to student table\n",
    "students_data = [\n",
    "    (1, 'Alice', 'Johnson'),\n",
    "    (2, 'Bob', 'Smith'),\n",
    "    (3, 'Carol', 'White'),\n",
    "    (4, 'David', 'Brown'),\n",
    "    (5, 'Eve', 'Davis')\n",
    "]\n",
    "\n",
    "# Insert data into table\n",
    "cursor.executemany('''\n",
    "    INSERT INTO students (student_id, first_name, last_name) VALUES (?, ?, ?)\n",
    "''', students_data\n",
    ")\n",
    "\n",
    "# Create data to grades table\n",
    "grades_data = [\n",
    "    (1, 1, \"Math\", 95),\n",
    "    (2, 1, \"English\", 88),\n",
    "    (3, 1, 'History', 90),\n",
    "    (4, 2, \"Math\", 82),\n",
    "    (5, 2, 'English', 76),\n",
    "    (6, 2, \"History\", 85),\n",
    "    (7, 3, \"Math\", 92),\n",
    "    (8, 3, \"English\", 99),\n",
    "    (9, 3, 'History', 83),\n",
    "    (10, 4, \"Math\", 77),\n",
    "    (11, 4, 'English', 68),\n",
    "    (12, 4, \"History\", 81),\n",
    "    (13, 5, \"Math\", 83),\n",
    "    (14, 5, 'English', 76),\n",
    "    (15, 5, \"History\", 84),\n",
    "]\n",
    "\n",
    "# Insert data into table\n",
    "cursor.executemany('''\n",
    "    INSERT INTO grades (grade_id, student_id, subject, grade) VALUES (?, ?, ?, ?)\n",
    "''', grades_data\n",
    ")"
   ]
  },
  {
   "cell_type": "markdown",
   "metadata": {},
   "source": [
    "## 4. Perform SQL Queries\n",
    "Write SQL queries to answer the following questions:\n",
    "1. Retrieve all students' names and their grades.\n",
    "2. Find the average grade for each student.\n",
    "3. Find the student with the highest average grade.\n",
    "4. Find the average grade for the Math subject.\n",
    "5. List all students who scored above 90 in any subject."
   ]
  },
  {
   "cell_type": "code",
   "execution_count": 4,
   "metadata": {},
   "outputs": [
    {
     "name": "stdout",
     "output_type": "stream",
     "text": [
      "('Alice', 'Johnson', 'Math', 95)\n",
      "('Alice', 'Johnson', 'English', 88)\n",
      "('Alice', 'Johnson', 'History', 90)\n",
      "('Bob', 'Smith', 'Math', 82)\n",
      "('Bob', 'Smith', 'English', 76)\n",
      "('Bob', 'Smith', 'History', 85)\n",
      "('Carol', 'White', 'Math', 92)\n",
      "('Carol', 'White', 'English', 99)\n",
      "('Carol', 'White', 'History', 83)\n",
      "('David', 'Brown', 'Math', 77)\n",
      "('David', 'Brown', 'English', 68)\n",
      "('David', 'Brown', 'History', 81)\n",
      "('Eve', 'Davis', 'Math', 83)\n",
      "('Eve', 'Davis', 'English', 76)\n",
      "('Eve', 'Davis', 'History', 84)\n"
     ]
    }
   ],
   "source": [
    "# SQL Query 1\n",
    "cursor.execute('''\n",
    "SELECT students.first_name, students.last_name, grades.subject, grades.grade\n",
    "FROM grades \n",
    "JOIN students ON students.student_id = grades.student_id\n",
    "''')\n",
    "\n",
    "# Print results\n",
    "for i in cursor.fetchall():\n",
    "    print(i)"
   ]
  },
  {
   "cell_type": "code",
   "execution_count": 5,
   "metadata": {},
   "outputs": [
    {
     "name": "stdout",
     "output_type": "stream",
     "text": [
      "('Carol', 'White', 91.33333333333333)\n",
      "('Alice', 'Johnson', 91.0)\n",
      "('Bob', 'Smith', 81.0)\n",
      "('Eve', 'Davis', 81.0)\n",
      "('David', 'Brown', 75.33333333333333)\n"
     ]
    }
   ],
   "source": [
    "# SQL Query 2\n",
    "cursor.execute('''\n",
    "SELECT students.first_name, students.last_name, AVG(grades.grade)\n",
    "FROM grades \n",
    "JOIN students ON students.student_id = grades.student_id\n",
    "GROUP BY students.last_name\n",
    "ORDER BY AVG(grades.grade) DESC\n",
    "''')\n",
    "\n",
    "# Print results\n",
    "for i in cursor.fetchall():\n",
    "    print(i)"
   ]
  },
  {
   "cell_type": "code",
   "execution_count": 6,
   "metadata": {},
   "outputs": [
    {
     "name": "stdout",
     "output_type": "stream",
     "text": [
      "[('Carol', 'White')]\n"
     ]
    }
   ],
   "source": [
    "# SQL Query 3\n",
    "cursor.execute('''\n",
    "SELECT students.first_name, students.last_name\n",
    "FROM grades \n",
    "JOIN students ON students.student_id = grades.student_id\n",
    "GROUP BY students.last_name\n",
    "ORDER BY AVG(grades.grade) DESC\n",
    "LIMIT 1\n",
    "''')\n",
    "\n",
    "# Print results\n",
    "print(cursor.fetchall())"
   ]
  },
  {
   "cell_type": "code",
   "execution_count": 7,
   "metadata": {},
   "outputs": [
    {
     "name": "stdout",
     "output_type": "stream",
     "text": [
      "85.8\n"
     ]
    }
   ],
   "source": [
    "# SQL Query 4\n",
    "cursor.execute('''\n",
    "SELECT AVG(grades.grade)\n",
    "FROM grades\n",
    "WHERE grades.subject = 'Math'\n",
    "''')\n",
    "\n",
    "# Print results\n",
    "print(cursor.fetchall()[0][0])"
   ]
  },
  {
   "cell_type": "code",
   "execution_count": 8,
   "metadata": {},
   "outputs": [
    {
     "name": "stdout",
     "output_type": "stream",
     "text": [
      "('Alice', 'Johnson')\n",
      "('Alice', 'Johnson')\n",
      "('Alice', 'Johnson')\n",
      "('Carol', 'White')\n",
      "('Carol', 'White')\n",
      "('Carol', 'White')\n"
     ]
    }
   ],
   "source": [
    "# SQL Query 5\n",
    "cursor.execute('''\n",
    "SELECT students.first_name, students.last_name\n",
    "FROM grades\n",
    "JOIN students ON students.student_id = grades.student_id\n",
    "WHERE students.last_name IN (\n",
    "    SELECT students.last_name\n",
    "    FROM grades \n",
    "    JOIN students ON students.student_id = grades.student_id\n",
    "    WHERE grades.grade > 90\n",
    ")\n",
    "''')\n",
    "\n",
    "# Print results\n",
    "for i in cursor.fetchall():\n",
    "    print(i)"
   ]
  },
  {
   "cell_type": "markdown",
   "metadata": {},
   "source": [
    "## 5. Load Data into Pandas\n",
    "1. Use Pandas to load the data from the students and grades tables into DataFrames.\n",
    "2. Use JOIN queries to combine the data from both tables into a single DataFrame that includes each student's name, subject, and grade.\n",
    "3. Visualize the data with Matplotlib:\n",
    "\n",
    "    o Plot the average grades for each student.\n",
    "    \n",
    "    o Create a bar chart showing the average grade for each subject."
   ]
  },
  {
   "cell_type": "code",
   "execution_count": 9,
   "metadata": {},
   "outputs": [],
   "source": [
    "# Import pandas\n",
    "import pandas as pd\n",
    "\n",
    "# Query the grades and sales date into DataFrames\n",
    "dfgrades = pd.read_sql_query('SELECT * FROM grades', connection)\n",
    "dfstudents = pd.read_sql_query('SELECT * FROM students', connection)"
   ]
  },
  {
   "cell_type": "code",
   "execution_count": 10,
   "metadata": {},
   "outputs": [],
   "source": [
    "# Combined dataframe\n",
    "df = pd.read_sql_query('''\n",
    "    SELECT grades.grade_id, students.first_name, students.last_name, grades.subject, grades.grade\n",
    "    FROM grades\n",
    "    JOIN students ON students.student_id = grades.student_id\n",
    "''', connection)"
   ]
  },
  {
   "cell_type": "code",
   "execution_count": 11,
   "metadata": {},
   "outputs": [
    {
     "data": {
      "image/png": "[encoded data removed]",
      "text/plain": [
       "<Figure size 500x300 with 1 Axes>"
      ]
     },
     "metadata": {},
     "output_type": "display_data"
    },
    {
     "data": {
      "image/png": "[encoded data removed]",
      "text/plain": [
       "<Figure size 500x300 with 1 Axes>"
      ]
     },
     "metadata": {},
     "output_type": "display_data"
    }
   ],
   "source": [
    "# Import matplotlib\n",
    "import matplotlib.pyplot as plt\n",
    "\n",
    "# Plot average grades for each student\n",
    "plt.figure(figsize=(5,3))\n",
    "plt.bar(df['last_name'], df['grade'], color='green')\n",
    "plt.xlabel('Student Last Name')\n",
    "plt.ylabel('Grade')\n",
    "plt.title('Student Average Grades')\n",
    "plt.show()\n",
    "\n",
    "# Plot average grades for each subject\n",
    "plt.figure(figsize=(5,3))\n",
    "plt.bar(df['subject'], df['grade'], color='red')\n",
    "plt.xlabel('Subject')\n",
    "plt.ylabel('Grade')\n",
    "plt.title('Subject Average Grades')\n",
    "plt.show()"
   ]
  }
 ],
 "metadata": {
  "kernelspec": {
   "display_name": "ds4003",
   "language": "python",
   "name": "python3"
  },
  "language_info": {
   "codemirror_mode": {
    "name": "ipython",
    "version": 3
   },
   "file_extension": ".py",
   "mimetype": "text/x-python",
   "name": "python",
   "nbconvert_exporter": "python",
   "pygments_lexer": "ipython3",
   "version": "3.8.18"
  }
 },
 "nbformat": 4,
 "nbformat_minor": 2
}
